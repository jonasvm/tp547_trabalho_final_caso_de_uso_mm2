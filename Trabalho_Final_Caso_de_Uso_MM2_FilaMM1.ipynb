{
  "nbformat": 4,
  "nbformat_minor": 0,
  "metadata": {
    "colab": {
      "provenance": []
    },
    "kernelspec": {
      "name": "python3",
      "display_name": "Python 3"
    },
    "language_info": {
      "name": "python"
    }
  },
  "cells": [
    {
      "cell_type": "code",
      "execution_count": null,
      "metadata": {
        "colab": {
          "base_uri": "https://localhost:8080/"
        },
        "id": "zjA2o2eSaKLU",
        "outputId": "a29c9c92-f056-4acc-cc26-f13e2315d49a"
      },
      "outputs": [
        {
          "output_type": "stream",
          "name": "stdout",
          "text": [
            "Requirement already satisfied: numpy in /usr/local/lib/python3.10/dist-packages (1.25.2)\n",
            "Requirement already satisfied: matplotlib in /usr/local/lib/python3.10/dist-packages (3.7.1)\n",
            "Requirement already satisfied: contourpy>=1.0.1 in /usr/local/lib/python3.10/dist-packages (from matplotlib) (1.2.1)\n",
            "Requirement already satisfied: cycler>=0.10 in /usr/local/lib/python3.10/dist-packages (from matplotlib) (0.12.1)\n",
            "Requirement already satisfied: fonttools>=4.22.0 in /usr/local/lib/python3.10/dist-packages (from matplotlib) (4.53.0)\n",
            "Requirement already satisfied: kiwisolver>=1.0.1 in /usr/local/lib/python3.10/dist-packages (from matplotlib) (1.4.5)\n",
            "Requirement already satisfied: numpy>=1.20 in /usr/local/lib/python3.10/dist-packages (from matplotlib) (1.25.2)\n",
            "Requirement already satisfied: packaging>=20.0 in /usr/local/lib/python3.10/dist-packages (from matplotlib) (24.1)\n",
            "Requirement already satisfied: pillow>=6.2.0 in /usr/local/lib/python3.10/dist-packages (from matplotlib) (9.4.0)\n",
            "Requirement already satisfied: pyparsing>=2.3.1 in /usr/local/lib/python3.10/dist-packages (from matplotlib) (3.1.2)\n",
            "Requirement already satisfied: python-dateutil>=2.7 in /usr/local/lib/python3.10/dist-packages (from matplotlib) (2.8.2)\n",
            "Requirement already satisfied: six>=1.5 in /usr/local/lib/python3.10/dist-packages (from python-dateutil>=2.7->matplotlib) (1.16.0)\n"
          ]
        }
      ],
      "source": [
        "!pip install numpy\n",
        "!pip install matplotlib"
      ]
    },
    {
      "cell_type": "code",
      "source": [
        "import numpy as np\n",
        "import matplotlib.pyplot as plt\n",
        "t = 0                                                   # Tempo inicial\n",
        "lq = 0                                                  # Numero de elementos na fila\n",
        "ls = 1                                                  # Numero de elementos no servidor\n",
        "k1 = 0                                                  # Variavel auxiliar\n",
        "k2 = 0                                                  # Variavel auxiliar\n",
        "k = 0                                                   # Numero de partidas\n",
        "lambda1= 20                                             # Taxa media de chegada\n",
        "mu1= 30                                                 # Taxa media de partida\n",
        "chegadas = np.random.exponential(1/lambda1,100000)      # Vetor de chegadas\n",
        "\n",
        "partidas = np.random.exponential(1/mu1,100000)          # Vetor de partidas\n",
        "tc = [0]                                                # Tempo de chegadas\n",
        "tp = []                                                 # Tempo de partidas\n",
        "ts = []                                                 # Tempo no sistema\n",
        "\n",
        "ta = t + chegadas[k1]                                   # Proxima chegada\n",
        "td = t + partidas[k2]                                   # Proxima partida\n",
        "t = np.minimum(ta, td)                                  # Proximo tempo de execucao\n",
        "\n",
        "while (t < 5000):                                       # Tempo da simulacao\n",
        "\n",
        "    if ta<td:                                           # 1 - Evento de chegada\n",
        "        k1 = k1 + 1\n",
        "        ta = []                                         # Apago o tempo da chegada atual\n",
        "\n",
        "        if ls == 1:                                     # Caso 1.1 - o servidor está ocupado\n",
        "            lq = lq + 1                                 # Incremento a fila\n",
        "            ta = t + chegadas[k1]                       # Gero uma nova chegada\n",
        "            tc = np.append(tc, t)                       # Armazeno o tempo da chegada atual\n",
        "\n",
        "        else:                                           # Caso 1.2 - o servidor está desocupado\n",
        "            ls = 1                                      # Ocupo o servidor\n",
        "            k2 = k2 + 1\n",
        "            td = t + partidas[k2]                       # Gero uma nova partida\n",
        "            ta = t + chegadas[k1]                       # Gero uma nova chegada\n",
        "            tc = np.append(tc, t)                       # Armazeno o tempo da chegada atual\n",
        "\n",
        "\n",
        "    elif ta == td:                                      # 2 - Chegada e partida simultâneas\n",
        "\n",
        "        tc = np.append(tc, t)                           # # Armazeno o tempo da chegada atual\n",
        "        tp = np.append(tp, t)                           # # Armazeno o tempo da partida atual\n",
        "\n",
        "        k = k + 1                                       # Incremento a partida\n",
        "\n",
        "        ts = np.append(ts,(tp[k-1] - tc[k-1]))          # Calculo o tempo no sistema\n",
        "\n",
        "        ta = []                                         # Apago os valores de chegadas e partidas atuais\n",
        "        td = []\n",
        "        k1 = k1 + 1\n",
        "        k2 = k2 + 1\n",
        "        td = t + partidas[k2]                           # Calculo a proxima partida\n",
        "        ta = t + chegadas[k1]                           # Calculo a proxima chegada\n",
        "\n",
        "\n",
        "\n",
        "    else:                                               # 3 - Evento de partida\n",
        "        td = []                                         # Apago o tempo de partida\n",
        "\n",
        "        k = k + 1                                       # Incremento o numero de partidas\n",
        "\n",
        "        if lq > 0:                                      # Caso 3.1 - Temos pacotes na fila\n",
        "            tp = np.append(tp, t)                       # Armazeno o tempo da partida\n",
        "            ts = np.append(ts, (tp[k - 1] - tc[k - 1])) # Calculo o tempo no sistema\n",
        "            lq = lq - 1                                 # Decremento a fila\n",
        "            k2 = k2 + 1\n",
        "            td = t + partidas[k2]                       # Calculo a proxima partida\n",
        "\n",
        "        else:                                           # Caso 3.2 - Não temos pacotes na fila\n",
        "            tp = np.append(tp, t)                       # Armazeno o tempo da partida\n",
        "            ts = np.append(ts, (tp[k - 1] - tc[k - 1])) # Calculo o tempo no sistema\n",
        "\n",
        "            td = np.infty                               # Coloco um valor alto para a proxima partida\n",
        "            ls = 0                                      # Limpo o servidor\n",
        "\n",
        "\n",
        "    t = np.minimum(ta, td)                              # Calculo o tempo minimo entre chegada e partida\n",
        "\n",
        "# Realizo os calculos finais\n",
        "tw=np.mean(ts)-1/mu1\n",
        "eq=lambda1*np.mean(ts)\n",
        "ew=lambda1*tw\n",
        "rho=lambda1/mu1\n",
        "\n",
        "# Exibo os resultados\n",
        "print(\"fator de utilizacao rho\")\n",
        "print(rho)\n",
        "print(\"tempo no sistema\")\n",
        "print(np.mean(ts))\n",
        "print(\"tempo na fila\")\n",
        "print(tw)\n",
        "print(\"numero medio de pacotes no sistema\")\n",
        "print(eq)\n",
        "print(\"numero medio de pacotes na fila\")\n",
        "print(ew)"
      ],
      "metadata": {
        "colab": {
          "base_uri": "https://localhost:8080/"
        },
        "id": "J9lNY6mqaM_S",
        "outputId": "fc75dc73-c970-4880-9858-6ddfca9f22a4"
      },
      "execution_count": null,
      "outputs": [
        {
          "output_type": "stream",
          "name": "stdout",
          "text": [
            "fator de utilizacao rho\n",
            "0.6666666666666666\n",
            "tempo no sistema\n",
            "0.10157783967382562\n",
            "tempo na fila\n",
            "0.06824450634049228\n",
            "numero medio de pacotes no sistema\n",
            "2.0315567934765126\n",
            "numero medio de pacotes na fila\n",
            "1.3648901268098457\n"
          ]
        }
      ]
    }
  ]
}