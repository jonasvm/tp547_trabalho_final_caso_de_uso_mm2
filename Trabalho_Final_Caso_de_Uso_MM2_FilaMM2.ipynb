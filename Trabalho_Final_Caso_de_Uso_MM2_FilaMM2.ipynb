{
  "nbformat": 4,
  "nbformat_minor": 0,
  "metadata": {
    "colab": {
      "provenance": []
    },
    "kernelspec": {
      "name": "python3",
      "display_name": "Python 3"
    },
    "language_info": {
      "name": "python"
    }
  },
  "cells": [
    {
      "cell_type": "code",
      "source": [
        "!pip install numpy\n",
        "!pip install matplotlib"
      ],
      "metadata": {
        "id": "EpHnMWG7JgvI",
        "outputId": "67bbeb38-0b35-469d-db10-ad9c14e9cb7c",
        "colab": {
          "base_uri": "https://localhost:8080/"
        }
      },
      "execution_count": null,
      "outputs": [
        {
          "output_type": "stream",
          "name": "stdout",
          "text": [
            "Requirement already satisfied: numpy in /usr/local/lib/python3.10/dist-packages (1.25.2)\n",
            "Requirement already satisfied: matplotlib in /usr/local/lib/python3.10/dist-packages (3.7.1)\n",
            "Requirement already satisfied: contourpy>=1.0.1 in /usr/local/lib/python3.10/dist-packages (from matplotlib) (1.2.1)\n",
            "Requirement already satisfied: cycler>=0.10 in /usr/local/lib/python3.10/dist-packages (from matplotlib) (0.12.1)\n",
            "Requirement already satisfied: fonttools>=4.22.0 in /usr/local/lib/python3.10/dist-packages (from matplotlib) (4.53.0)\n",
            "Requirement already satisfied: kiwisolver>=1.0.1 in /usr/local/lib/python3.10/dist-packages (from matplotlib) (1.4.5)\n",
            "Requirement already satisfied: numpy>=1.20 in /usr/local/lib/python3.10/dist-packages (from matplotlib) (1.25.2)\n",
            "Requirement already satisfied: packaging>=20.0 in /usr/local/lib/python3.10/dist-packages (from matplotlib) (24.1)\n",
            "Requirement already satisfied: pillow>=6.2.0 in /usr/local/lib/python3.10/dist-packages (from matplotlib) (9.4.0)\n",
            "Requirement already satisfied: pyparsing>=2.3.1 in /usr/local/lib/python3.10/dist-packages (from matplotlib) (3.1.2)\n",
            "Requirement already satisfied: python-dateutil>=2.7 in /usr/local/lib/python3.10/dist-packages (from matplotlib) (2.8.2)\n",
            "Requirement already satisfied: six>=1.5 in /usr/local/lib/python3.10/dist-packages (from python-dateutil>=2.7->matplotlib) (1.16.0)\n"
          ]
        }
      ]
    },
    {
      "cell_type": "code",
      "execution_count": null,
      "metadata": {
        "id": "q7OinFtJJexC",
        "outputId": "6a37456b-310a-42f9-971e-a10cc2366b30",
        "colab": {
          "base_uri": "https://localhost:8080/"
        }
      },
      "outputs": [
        {
          "output_type": "stream",
          "name": "stdout",
          "text": [
            "fator de utilizacao rho\n",
            "0.6666666666666666\n",
            "tempo no sistema\n",
            "1247.902789006893\n",
            "tempo na fila\n",
            "1247.8694556735597\n",
            "numero medio de pacotes no sistema\n",
            "24958.05578013786\n",
            "numero medio de pacotes na fila\n",
            "24957.389113471196\n"
          ]
        }
      ],
      "source": [
        "import numpy as np\n",
        "import matplotlib.pyplot as plt\n",
        "t = 0                                                   # Tempo inicial\n",
        "lq = 0                                                  # Numero de elementos na fila\n",
        "ls1 = 1                                                 # Numero de elementos no servidor 1\n",
        "ls2 = 0                                                 # Numero de elementos no servidor 2\n",
        "k1 = 0                                                  # Variavel auxiliar 1\n",
        "k2 = 0                                                  # Variavel auxiliar 2\n",
        "k = 0                                                   # Numero de partidas\n",
        "lambda1= 20                                             # Taxa media de chegada\n",
        "mu1= 30                                                 # Taxa media de partida\n",
        "m = 2                                                   # Número de Servidores\n",
        "\n",
        "x = np.random.uniform()                                 # Variável Aleatória pra escolher qual servidor usar\n",
        "chegadas = np.random.exponential(1/lambda1,1)           # Vetor de chegadas\n",
        "partidas1 = np.random.exponential(1/mu1,1)              # Vetor de partidas\n",
        "partidas2 = np.random.exponential(1/mu1,1)              # Vetor de partidas\n",
        "\n",
        "tc = [0]                                                # Tempo de chegadas\n",
        "tp = []                                                 # Tempo de partidas\n",
        "ts = []                                                 # Tempo no sistema\n",
        "ta = t + chegadas[k1]                                   # Proxima chegada\n",
        "td1 = t + partidas1[k2]                                 # Proxima partida da fila 1\n",
        "td2 = t + partidas2[k2]                                 # Proxima partida da fila 2\n",
        "t = np.minimum(np.minimum(ta , td1) , td2)              # Proximo tempo de execucao\n",
        "\n",
        "while (t < 5000):                                       # Tempo da simulacao\n",
        "\n",
        "    if ta < td1 and ta < td2:                           # 1 - Evento de chegada\n",
        "        k1 = k1 + 1\n",
        "        ta = []                                         # Resetando o tempo de chegada atual\n",
        "        if ls1 == 1 and ls2 == 1:                       # Caso 1.1 - os dois servidores ocupados\n",
        "            lq = lq + 1                                 # Incremento a fila\n",
        "            ta = t + np.random.exponential(1/mu1,1)     # Gero uma nova chegada\n",
        "            tc = np.append(tc, t)                       # Armazeno o tempo atual da chegada\n",
        "\n",
        "        elif ls1 == 0 and ls2 == 1:                     # Caso 1.2 - o servidor 1 está desocupado\n",
        "            ls1 = 1                                     # Ocupo o servidor 1\n",
        "            k2 = k2 + 1\n",
        "            td1 = t + np.random.exponential(1/mu1,1)    # Gero uma nova partida\n",
        "            ta = t + np.random.exponential(1/mu1,1)     # Gero uma nova chegada\n",
        "            tc = np.append(tc, t)                       # Armazeno o tempo de chegada atual\n",
        "\n",
        "        elif ls1 == 1 and ls2 == 2:                     # Caso 1.3 - o servidor 2 está desocupado\n",
        "            ls2 = 2                                     # Ocupo o servidor 2\n",
        "            k2 = k2 + 1\n",
        "            td2 = t + np.random.exponential(1/mu1,1)    # Gero uma nova partida\n",
        "            ta = t + np.random.exponential(1/mu1,1)     # Gero uma nova chegada\n",
        "            tc = np.append(tc, t)                       # Armazeno o tempo da chegada atual\n",
        "        else :                                          # Caso 1.4 - os dois servidores estão desocupados\n",
        "          if x > 0.5:                                   # Neste caso, vamos escolher qual dos dois servidores ocupar\n",
        "            ls1 = 1                                     # Caso 1.4.1 - Ocupo o servidor 1\n",
        "            k2 = k2 + 1\n",
        "            td1 = t + np.random.exponential(1/mu1,1)    # Gero uma nova partida\n",
        "            ta = t + np.random.exponential(1/mu1,1)     # Gero uma nova chegada\n",
        "            tc = np.append(tc, t)                       # Armazeno o tempo de chegada atual\n",
        "          else:\n",
        "            ls2 = 2                                     # Caso 1.4.2 - Ocupo o servidor 2\n",
        "            k2 = k2 + 1\n",
        "            td2 = t + np.random.exponential(1/mu1,1)    # Gero uma nova partida\n",
        "            ta = t + np.random.exponential(1/mu1,1)     # Gero uma nova chegada\n",
        "            tc = np.append(tc, t)                       # Armazeno o tempo de chegada atual\n",
        "\n",
        "    elif td1 < ta and td1 < td2:                        # 2 - Evento de partida 1\n",
        "        td1 = []                                        # Apago o tempo de partida\n",
        "\n",
        "        k = k + 1                                       # Incremento o numero de partidas\n",
        "\n",
        "        if lq > 0:                                      # Caso 2.1 - Temos pacotes na fila\n",
        "            tp = np.append(tp, t)                       # Armazeno o tempo da partida\n",
        "            ts = np.append(ts, (tp[k - 1] - tc[k - 1])) # Calculo o tempo no sistema\n",
        "            lq = lq - 1                                 # Decremento a fila\n",
        "            k2 = k2 + 1\n",
        "            td1 = t + np.random.exponential(1/mu1,1)    # Calculo a proxima partida\n",
        "\n",
        "        else:                                           # Caso 2.2 - Não temos pacotes na fila\n",
        "            tp = np.append(tp, t)                       # Armazeno o tempo da partida\n",
        "            ts = np.append(ts, (tp[k - 1] - tc[k - 1])) # Calculo o tempo no sistema\n",
        "\n",
        "            td1 = np.infty                              # Coloco um valor alto para a proxima partida\n",
        "            ls1 = 0                                     # Esvazio o servidor\n",
        "\n",
        "    else:                                               # 3 - Evento de partida 2\n",
        "        td2 = []                                        # Apago o tempo de partida\n",
        "\n",
        "        k = k + 1                                       # Incremento o numero de partidas\n",
        "\n",
        "        if lq > 0:                                      # Caso 3.1 - Temos pacotes na fila\n",
        "            tp = np.append(tp, t)                       # Armazeno o tempo da partida\n",
        "            ts = np.append(ts, (tp[k - 1] - tc[k - 1])) # Calculo o tempo no sistema\n",
        "            lq = lq - 1                                 # Decremento a fila\n",
        "            k2 = k2 + 1\n",
        "            td2 = t + np.random.exponential(1/mu1,1)    # Calculo a proxima partida\n",
        "\n",
        "        else:                                           # Caso 3.2 - Não temos pacotes na fila\n",
        "            tp = np.append(tp, t)                       # Armazeno o tempo da partida\n",
        "            ts = np.append(ts, (tp[k - 1] - tc[k - 1])) # Calculo o tempo no sistema\n",
        "\n",
        "            td2 = np.infty                              # Coloco um valor alto para a proxima partida\n",
        "            ls2 = 0                                     # Esvazio o servidor\n",
        "\n",
        "\n",
        "    t = np.minimum(np.minimum(ta , td1) , td2)          # Calculo o tempo minimo entre chegadas e partidas\n",
        "\n",
        "# Realizo os calculos finais\n",
        "tw=np.mean(ts)-1/mu1\n",
        "eq=lambda1*np.mean(ts)\n",
        "ew=lambda1*tw\n",
        "rho=lambda1/mu1\n",
        "\n",
        "# Exibo os resultados\n",
        "print(\"fator de utilizacao rho\")\n",
        "print(rho)\n",
        "print(\"tempo no sistema\")\n",
        "print(np.mean(ts))\n",
        "print(\"tempo na fila\")\n",
        "print(tw)\n",
        "print(\"numero medio de pacotes no sistema\")\n",
        "print(eq)\n",
        "print(\"numero medio de pacotes na fila\")\n",
        "print(ew)"
      ]
    }
  ]
}